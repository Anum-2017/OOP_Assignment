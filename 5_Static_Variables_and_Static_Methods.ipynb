{
  "nbformat": 4,
  "nbformat_minor": 0,
  "metadata": {
    "colab": {
      "provenance": []
    },
    "kernelspec": {
      "name": "python3",
      "display_name": "Python 3"
    },
    "language_info": {
      "name": "python"
    }
  },
  "cells": [
    {
      "cell_type": "markdown",
      "source": [
        "# **5. Static Variables and Static Methods**\n",
        "**Assignment:**\n",
        "\n",
        "Create a class MathUtils with a static method add(a, b) that returns the sum. No class or instance variables should be used."
      ],
      "metadata": {
        "id": "mapfI-YMHOvN"
      }
    },
    {
      "cell_type": "code",
      "execution_count": 1,
      "metadata": {
        "colab": {
          "base_uri": "https://localhost:8080/"
        },
        "id": "Gi4-SVHCGz0t",
        "outputId": "f1992a1d-dd04-4508-89c7-b0f32ddb9a85"
      },
      "outputs": [
        {
          "output_type": "stream",
          "name": "stdout",
          "text": [
            "The sum of 5 and 3 is: 8\n"
          ]
        }
      ],
      "source": [
        "class MathUtils:\n",
        "    @staticmethod\n",
        "    def add(a, b):\n",
        "        # Static method to return the sum of two numbers\n",
        "        return a + b\n",
        "\n",
        "# Calling the static method without creating an instance of the class\n",
        "result = MathUtils.add(5, 3)\n",
        "\n",
        "# Printing the result\n",
        "print(f\"The sum of 5 and 3 is: {result}\")\n"
      ]
    }
  ]
}