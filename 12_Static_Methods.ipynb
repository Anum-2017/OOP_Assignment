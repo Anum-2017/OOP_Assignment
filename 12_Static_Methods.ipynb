{
  "nbformat": 4,
  "nbformat_minor": 0,
  "metadata": {
    "colab": {
      "provenance": []
    },
    "kernelspec": {
      "name": "python3",
      "display_name": "Python 3"
    },
    "language_info": {
      "name": "python"
    }
  },
  "cells": [
    {
      "cell_type": "markdown",
      "source": [
        "# **12. Static Methods**\n",
        "**Assignment:**\n",
        "\n",
        "Create a class TemperatureConverter with a static method celsius_to_fahrenheit(c) that returns the Fahrenheit value."
      ],
      "metadata": {
        "id": "dwXj60AcTAmz"
      }
    },
    {
      "cell_type": "code",
      "execution_count": 4,
      "metadata": {
        "colab": {
          "base_uri": "https://localhost:8080/"
        },
        "id": "QVSyP44gS_Y1",
        "outputId": "5d63518d-87ca-45ee-e0d1-a2f01d989655"
      },
      "outputs": [
        {
          "output_type": "stream",
          "name": "stdout",
          "text": [
            "Here is the temperature conversion result: \n",
            "\n",
            "The temperature of 30°C is equivalent to 86.0°F.\n"
          ]
        }
      ],
      "source": [
        "class TemperatureConverter:\n",
        "    @staticmethod\n",
        "    def celsius_to_fahrenheit(c):\n",
        "        # Convert Celsius to Fahrenheit\n",
        "        return (c * 9/5) + 32\n",
        "\n",
        "celsius = 30\n",
        "fahrenheit = TemperatureConverter.celsius_to_fahrenheit(celsius)\n",
        "\n",
        "print(\"Here is the temperature conversion result: \\n\")\n",
        "print(f\"The temperature of {celsius}°C is equivalent to {fahrenheit}°F.\")\n"
      ]
    }
  ]
}