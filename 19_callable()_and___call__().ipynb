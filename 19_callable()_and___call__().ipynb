{
  "nbformat": 4,
  "nbformat_minor": 0,
  "metadata": {
    "colab": {
      "provenance": []
    },
    "kernelspec": {
      "name": "python3",
      "display_name": "Python 3"
    },
    "language_info": {
      "name": "python"
    }
  },
  "cells": [
    {
      "cell_type": "markdown",
      "source": [
        "# **19. callable() and __call__()**\n",
        "**Assignment:**\n",
        "\n",
        "Create a class Multiplier with an __init__() to set a factor. Define a __call__() method that multiplies an input by the factor. Test it with callable() and by calling the object like a function."
      ],
      "metadata": {
        "id": "vMna_PxUPj11"
      }
    },
    {
      "cell_type": "code",
      "execution_count": 3,
      "metadata": {
        "colab": {
          "base_uri": "https://localhost:8080/"
        },
        "id": "-7KoNSTbPhOI",
        "outputId": "c92ee3b5-b9b9-4637-a259-8a5c6545e567"
      },
      "outputs": [
        {
          "output_type": "stream",
          "name": "stdout",
          "text": [
            "Is 'double' callable? True\n",
            "Is 'triple' callable? True\n",
            "\n",
            "Multiplying 10 by factor 2 gives 20\n",
            "Multiplying 7 by factor 3 gives 21\n",
            "\n",
            "Result from double(10): 20\n",
            "Result from triple(7): 21\n"
          ]
        }
      ],
      "source": [
        "class Multiplier:\n",
        "    def __init__(self, factor):\n",
        "        self.factor = factor\n",
        "\n",
        "    def __call__(self, value):\n",
        "        result = value * self.factor\n",
        "        print(f\"Multiplying {value} by factor {self.factor} gives {result}\")\n",
        "        return result\n",
        "\n",
        "double = Multiplier(2)\n",
        "triple = Multiplier(3)\n",
        "\n",
        "print(\"Is 'double' callable?\", callable(double))\n",
        "print(\"Is 'triple' callable?\", callable(triple))\n",
        "\n",
        "print()\n",
        "result1 = double(10)\n",
        "result2 = triple(7)\n",
        "\n",
        "print()\n",
        "print(\"Result from double(10):\", result1)\n",
        "print(\"Result from triple(7):\", result2)"
      ]
    }
  ]
}