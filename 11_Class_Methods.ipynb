{
  "nbformat": 4,
  "nbformat_minor": 0,
  "metadata": {
    "colab": {
      "provenance": []
    },
    "kernelspec": {
      "name": "python3",
      "display_name": "Python 3"
    },
    "language_info": {
      "name": "python"
    }
  },
  "cells": [
    {
      "cell_type": "markdown",
      "source": [
        "# **11. Class Methods**\n",
        "**Assignment:**\n",
        "\n",
        "Create a class Book with a class variable total_books. Add a class method increment_book_count() to increase the count when a new book is added."
      ],
      "metadata": {
        "id": "ckiqwvEXSPvN"
      }
    },
    {
      "cell_type": "code",
      "execution_count": 2,
      "metadata": {
        "colab": {
          "base_uri": "https://localhost:8080/"
        },
        "id": "LCNvyDmvSLsf",
        "outputId": "a27d67f4-5235-4a12-ea0b-4f858addfe6f"
      },
      "outputs": [
        {
          "output_type": "stream",
          "name": "stdout",
          "text": [
            "Total books: 5\n"
          ]
        }
      ],
      "source": [
        "class Book:\n",
        "    # Class variable to track total books\n",
        "    total_books = 0\n",
        "\n",
        "    def __init__(self, title, author):\n",
        "        self.title = title\n",
        "        self.author = author\n",
        "        # Each time a new book is created, increment the total book count\n",
        "        Book.increment_book_count()\n",
        "\n",
        "    @classmethod\n",
        "    def increment_book_count(cls):\n",
        "        # Increment the total_books class variable\n",
        "        cls.total_books += 1\n",
        "\n",
        "    @classmethod\n",
        "    def display_total_books(cls):\n",
        "        # Display the total number of books\n",
        "        print(f\"Total books: {cls.total_books}\")\n",
        "\n",
        "# Creating instances of the Book class\n",
        "book1 = Book(\"Harry Potter\", \"J.K. Rowling\")\n",
        "book2 = Book(\"The Hobbit\", \"J.R.R. Tolkien\")\n",
        "book3 = Book(\"Charlie and the Chocolate Factory\", \"Roald Dahl\")\n",
        "book4 = Book(\"The Lion, the Witch, and the Wardrobe\", \"C.S. Lewis\")\n",
        "book5 = Book(\"Alice in Wonderland\", \"Lewis Carroll\")\n",
        "\n",
        "# Display the total number of books\n",
        "Book.display_total_books()"
      ]
    }
  ]
}