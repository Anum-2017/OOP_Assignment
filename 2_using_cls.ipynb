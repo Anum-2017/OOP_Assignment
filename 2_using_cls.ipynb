{
  "nbformat": 4,
  "nbformat_minor": 0,
  "metadata": {
    "colab": {
      "provenance": []
    },
    "kernelspec": {
      "name": "python3",
      "display_name": "Python 3"
    },
    "language_info": {
      "name": "python"
    }
  },
  "cells": [
    {
      "cell_type": "markdown",
      "source": [
        "# **2. Using cls**\n",
        "**Assignment:**\n",
        "\n",
        "Create a class Counter that keeps track of how many objects have been created. Use a class variable and a class method with cls to manage and display the count.\n",
        "\n"
      ],
      "metadata": {
        "id": "0MiIgAG7C6hX"
      }
    },
    {
      "cell_type": "code",
      "execution_count": null,
      "metadata": {
        "colab": {
          "base_uri": "https://localhost:8080/"
        },
        "id": "eX0DTAm1BkmY",
        "outputId": "06f24096-d5e7-4e5b-bc11-e8bb33b93425"
      },
      "outputs": [
        {
          "output_type": "stream",
          "name": "stdout",
          "text": [
            "Total objects created: 5\n"
          ]
        }
      ],
      "source": [
        "class Counter:\n",
        "    count = 0  # Class variable to keep track of the count of objects\n",
        "\n",
        "    def __init__(self):\n",
        "        # Each time an object is created, increment the count\n",
        "        Counter.count += 1\n",
        "\n",
        "    @classmethod\n",
        "    def display_count(cls):\n",
        "        # Class method that uses cls to access the class variable\n",
        "        print(f\"Total objects created: {cls.count}\")\n",
        "\n",
        "# Creating instances with different names\n",
        "counter1 = Counter()\n",
        "counter2 = Counter()\n",
        "counter3 = Counter()\n",
        "counter4 = Counter()\n",
        "counter5 = Counter()\n",
        "\n",
        "# Calling the class method to display the count of created objects\n",
        "Counter.display_count()"
      ]
    }
  ]
}