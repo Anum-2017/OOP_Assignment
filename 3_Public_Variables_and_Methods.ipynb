{
  "nbformat": 4,
  "nbformat_minor": 0,
  "metadata": {
    "colab": {
      "provenance": []
    },
    "kernelspec": {
      "name": "python3",
      "display_name": "Python 3"
    },
    "language_info": {
      "name": "python"
    }
  },
  "cells": [
    {
      "cell_type": "markdown",
      "source": [
        "# **3. Public Variables and Methods**\n",
        "**Assignment:**\n",
        "\n",
        "Create a class Car with a public variable brand and a public method start(). Instantiate the class and access both from outside the class."
      ],
      "metadata": {
        "id": "_0gg4J-oDvC3"
      }
    },
    {
      "cell_type": "code",
      "execution_count": 3,
      "metadata": {
        "colab": {
          "base_uri": "https://localhost:8080/"
        },
        "id": "-lYiy_o3DlSB",
        "outputId": "e40f6206-8ad4-4acc-a35b-0f327e68f6fd"
      },
      "outputs": [
        {
          "output_type": "stream",
          "name": "stdout",
          "text": [
            "My car's brand is Toyota \n",
            "\n",
            "The Toyota car is starting!\n"
          ]
        }
      ],
      "source": [
        "class Car:\n",
        "    def __init__(self, brand):\n",
        "        # Public variable to store the brand of the car\n",
        "        self.brand = brand\n",
        "\n",
        "    def start(self):\n",
        "        # Public method to start the car\n",
        "        print(f\"The {self.brand} car is starting!\")\n",
        "\n",
        "# Creating an instance of the Car class\n",
        "my_car = Car(\"Toyota\")\n",
        "\n",
        "# Accessing the public variable from outside the class\n",
        "print(f\"My car's brand is {my_car.brand} \\n\")\n",
        "\n",
        "# Calling the public method from outside the class\n",
        "my_car.start()\n"
      ]
    }
  ]
}