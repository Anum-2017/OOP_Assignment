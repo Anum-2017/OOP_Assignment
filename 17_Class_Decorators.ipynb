{
  "nbformat": 4,
  "nbformat_minor": 0,
  "metadata": {
    "colab": {
      "provenance": []
    },
    "kernelspec": {
      "name": "python3",
      "display_name": "Python 3"
    },
    "language_info": {
      "name": "python"
    }
  },
  "cells": [
    {
      "cell_type": "markdown",
      "source": [
        "# **17. Class Decorators**\n",
        "**Assignment:**\n",
        "\n",
        "Create a class decorator add_greeting that modifies a class to add a greet() method returning \"Hello from Decorator!\". Apply it to a class Person."
      ],
      "metadata": {
        "id": "wGVTSSkzamRk"
      }
    },
    {
      "cell_type": "code",
      "execution_count": 2,
      "metadata": {
        "colab": {
          "base_uri": "https://localhost:8080/"
        },
        "id": "8HNCCOrBalFs",
        "outputId": "d0c8a2ac-0460-483f-f6f2-08dcb0494454"
      },
      "outputs": [
        {
          "output_type": "stream",
          "name": "stdout",
          "text": [
            "Hello from Decorator!\n",
            "My name is Anum\n"
          ]
        }
      ],
      "source": [
        "def add_greeting(cls):\n",
        "    def greet(self):\n",
        "        return \"Hello from Decorator!\"\n",
        "\n",
        "    cls.greet = greet\n",
        "    return cls\n",
        "\n",
        "@add_greeting\n",
        "class Person:\n",
        "    def __init__(self, name):\n",
        "        self.name = name\n",
        "\n",
        "    def say_name(self):\n",
        "        return f\"My name is {self.name}\"\n",
        "\n",
        "person = Person(\"Anum\")\n",
        "print(person.greet())\n",
        "print(person.say_name())"
      ]
    }
  ]
}