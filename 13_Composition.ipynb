{
  "nbformat": 4,
  "nbformat_minor": 0,
  "metadata": {
    "colab": {
      "provenance": []
    },
    "kernelspec": {
      "name": "python3",
      "display_name": "Python 3"
    },
    "language_info": {
      "name": "python"
    }
  },
  "cells": [
    {
      "cell_type": "markdown",
      "source": [
        "# **13. Composition**\n",
        "**Assignment:**\n",
        "\n",
        "Create a class Engine and a class Car. Use composition by passing an Engine object to the Car class during initialization. Access a method of the Engine class via the Car class."
      ],
      "metadata": {
        "id": "KY6qBgmhUxqa"
      }
    },
    {
      "cell_type": "code",
      "execution_count": 1,
      "metadata": {
        "colab": {
          "base_uri": "https://localhost:8080/"
        },
        "id": "oIOVzVq9UlWg",
        "outputId": "c3519de9-7f47-4f5a-a7a8-e93d44d65574"
      },
      "outputs": [
        {
          "output_type": "stream",
          "name": "stdout",
          "text": [
            "The Toyota car is ready. Engine is starting...\n"
          ]
        }
      ],
      "source": [
        "class Engine:\n",
        "    def start(self):\n",
        "        return \"Engine is starting...\"\n",
        "\n",
        "class Car:\n",
        "    def __init__(self, brand, engine):\n",
        "        self.brand = brand\n",
        "        self.engine = engine\n",
        "\n",
        "    def start_car(self):\n",
        "        engine_message = self.engine.start()\n",
        "        return f\"The {self.brand} car is ready. {engine_message}\"\n",
        "\n",
        "my_engine = Engine()\n",
        "my_car = Car(\"Toyota\", my_engine)\n",
        "\n",
        "print(my_car.start_car())"
      ]
    }
  ]
}