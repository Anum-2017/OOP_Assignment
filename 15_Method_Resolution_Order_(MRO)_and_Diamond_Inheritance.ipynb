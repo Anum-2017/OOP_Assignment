{
  "nbformat": 4,
  "nbformat_minor": 0,
  "metadata": {
    "colab": {
      "provenance": []
    },
    "kernelspec": {
      "name": "python3",
      "display_name": "Python 3"
    },
    "language_info": {
      "name": "python"
    }
  },
  "cells": [
    {
      "cell_type": "markdown",
      "source": [
        "# **15. Method Resolution Order (MRO) and Diamond Inheritance**\n",
        "**Assignment:**\n",
        "\n",
        "Create four classes:\n",
        "* A with a method show(),\n",
        "* B and C that inherit from A and override show(),\n",
        "* D that inherits from both B and C.\n",
        "\n",
        "Create an object of D and call show() to observe MRO."
      ],
      "metadata": {
        "id": "F3fK6wO4YFBf"
      }
    },
    {
      "cell_type": "code",
      "execution_count": 1,
      "metadata": {
        "colab": {
          "base_uri": "https://localhost:8080/"
        },
        "id": "sSpp_KMLX_Ku",
        "outputId": "031cec81-7efd-445c-815c-ff236a325fa3"
      },
      "outputs": [
        {
          "output_type": "stream",
          "name": "stdout",
          "text": [
            "Creating an object of Class D...\n",
            "\n",
            "Calling the show() method from object of Class D:\n",
            "Method show() called from Class B (overrides A)\n",
            "\n",
            "Now printing the Method Resolution Order (MRO) for Class D:\n",
            "Class: D\n",
            "Class: B\n",
            "Class: C\n",
            "Class: A\n",
            "Class: object\n"
          ]
        }
      ],
      "source": [
        "class A:\n",
        "    def show(self):\n",
        "        print(\"Method show() called from Class A\")\n",
        "\n",
        "class B(A):\n",
        "    def show(self):\n",
        "        print(\"Method show() called from Class B (overrides A)\")\n",
        "\n",
        "class C(A):\n",
        "    def show(self):\n",
        "        print(\"Method show() called from Class C (overrides A)\")\n",
        "\n",
        "class D(B, C):\n",
        "    pass\n",
        "\n",
        "print(\"Creating an object of Class D...\")\n",
        "d = D()\n",
        "\n",
        "print(\"\\nCalling the show() method from object of Class D:\")\n",
        "d.show()\n",
        "\n",
        "print(\"\\nNow printing the Method Resolution Order (MRO) for Class D:\")\n",
        "for cls in D.__mro__:\n",
        "    print(f\"Class: {cls.__name__}\")"
      ]
    }
  ]
}