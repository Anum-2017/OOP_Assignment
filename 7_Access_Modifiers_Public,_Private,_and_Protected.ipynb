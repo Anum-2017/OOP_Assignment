{
  "nbformat": 4,
  "nbformat_minor": 0,
  "metadata": {
    "colab": {
      "provenance": []
    },
    "kernelspec": {
      "name": "python3",
      "display_name": "Python 3"
    },
    "language_info": {
      "name": "python"
    }
  },
  "cells": [
    {
      "cell_type": "markdown",
      "source": [
        "# **7. Access Modifiers: Public, Private, and Protected**\n",
        "**Assignment:**\n",
        "\n",
        "Create a class Employee with:\n",
        "\n",
        "*   a public variable name,\n",
        "*   a protected variable _salary, and\n",
        "*   a private variable __ssn.\n",
        "\n",
        "Try accessing all three variables from an object of the class and document what happens."
      ],
      "metadata": {
        "id": "QxWQ-lvjNXYf"
      }
    },
    {
      "cell_type": "code",
      "execution_count": 1,
      "metadata": {
        "colab": {
          "base_uri": "https://localhost:8080/"
        },
        "id": "-V6XBvnFNWB1",
        "outputId": "520da458-6051-4054-a571-5ad493506301"
      },
      "outputs": [
        {
          "output_type": "stream",
          "name": "stdout",
          "text": [
            "Public variable (name): John Doe\n",
            "Protected variable (salary): 50000\n",
            "Error accessing private variable: 'Employee' object has no attribute '__ssn'\n",
            "Name: John Doe\n",
            "Salary: 50000\n",
            "SSN: 123-45-6789\n"
          ]
        }
      ],
      "source": [
        "class Employee:\n",
        "    def __init__(self, name, salary, ssn):\n",
        "        # Public variable\n",
        "        self.name = name\n",
        "        # Protected variable (by convention, it is not enforced by Python)\n",
        "        self._salary = salary\n",
        "        # Private variable (name mangled to prevent direct access)\n",
        "        self.__ssn = ssn\n",
        "\n",
        "    def display_employee_details(self):\n",
        "        print(f\"Name: {self.name}\")\n",
        "        print(f\"Salary: {self._salary}\")\n",
        "        print(f\"SSN: {self.__ssn}\")\n",
        "\n",
        "# Creating an instance of the Employee class\n",
        "employee = Employee(\"John Doe\", 50000, \"123-45-6789\")\n",
        "\n",
        "# Accessing public variable\n",
        "print(f\"Public variable (name): {employee.name}\")\n",
        "\n",
        "# Accessing protected variable (by convention, but still accessible)\n",
        "print(f\"Protected variable (salary): {employee._salary}\")\n",
        "\n",
        "# Trying to access the private variable (directly - will cause an error)\n",
        "try:\n",
        "    print(f\"Private variable (SSN): {employee.__ssn}\")\n",
        "except AttributeError as e:\n",
        "    print(f\"Error accessing private variable: {e}\")\n",
        "\n",
        "# Using the class method to access all variables\n",
        "employee.display_employee_details()"
      ]
    }
  ]
}