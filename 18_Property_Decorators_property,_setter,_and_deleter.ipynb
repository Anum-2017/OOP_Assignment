{
  "nbformat": 4,
  "nbformat_minor": 0,
  "metadata": {
    "colab": {
      "provenance": []
    },
    "kernelspec": {
      "name": "python3",
      "display_name": "Python 3"
    },
    "language_info": {
      "name": "python"
    }
  },
  "cells": [
    {
      "cell_type": "markdown",
      "source": [
        "# **18. Property Decorators: @property, @setter, and @deleter**\n",
        "**Assignment:**\n",
        "\n",
        "Create a class Product with a private attribute _price. Use @property to get the price, @price.setter to update it, and @price.deleter to delete it."
      ],
      "metadata": {
        "id": "PZrOeBqobXdE"
      }
    },
    {
      "cell_type": "code",
      "execution_count": 2,
      "metadata": {
        "id": "NWp5ipCPbWZY",
        "colab": {
          "base_uri": "https://localhost:8080/"
        },
        "outputId": "b2963028-0943-4fd8-d6b7-35d732563cf4"
      },
      "outputs": [
        {
          "output_type": "stream",
          "name": "stdout",
          "text": [
            "📦 Accessing Laptop's price...\n",
            "Initial Laptop Price: 1000\n",
            "💰 Updating Laptop's price to 1500...\n",
            "📦 Accessing Laptop's price...\n",
            "Updated Laptop Price: 1500\n",
            "Error: Price must be non-negative.\n",
            "❌ Deleting Laptop's price...\n",
            "📦 Accessing Laptop's price...\n",
            "Error after deletion: 'Product' object has no attribute '_price'\n"
          ]
        }
      ],
      "source": [
        "class Product:\n",
        "    def __init__(self, name, price):\n",
        "        self.name = name\n",
        "        self._price = price\n",
        "\n",
        "    @property\n",
        "    def price(self):\n",
        "        print(f\"📦 Accessing {self.name}'s price...\")\n",
        "        return self._price\n",
        "\n",
        "    @price.setter\n",
        "    def price(self, new_price):\n",
        "        if new_price >= 0:\n",
        "            print(f\"💰 Updating {self.name}'s price to {new_price}...\")\n",
        "            self._price = new_price\n",
        "        else:\n",
        "            raise ValueError(\"Price must be non-negative.\")\n",
        "\n",
        "    @price.deleter\n",
        "    def price(self):\n",
        "        print(f\"❌ Deleting {self.name}'s price...\")\n",
        "        del self._price\n",
        "\n",
        "\n",
        "# Demo\n",
        "product = Product(\"Laptop\", 1000)\n",
        "print(\"Initial Laptop Price:\", product.price)  # Getter\n",
        "\n",
        "product.price = 1500  # Setter\n",
        "print(\"Updated Laptop Price:\", product.price)\n",
        "\n",
        "try:\n",
        "    product.price = -100  # Setter with invalid value\n",
        "except ValueError as e:\n",
        "    print(\"Error:\", e)\n",
        "\n",
        "del product.price  # Deleter\n",
        "\n",
        "try:\n",
        "    print(product.price)  # Access after deletion\n",
        "except AttributeError as e:\n",
        "    print(\"Error after deletion:\", e)"
      ]
    }
  ]
}