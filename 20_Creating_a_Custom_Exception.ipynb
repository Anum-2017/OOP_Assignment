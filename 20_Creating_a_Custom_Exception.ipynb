{
  "nbformat": 4,
  "nbformat_minor": 0,
  "metadata": {
    "colab": {
      "provenance": []
    },
    "kernelspec": {
      "name": "python3",
      "display_name": "Python 3"
    },
    "language_info": {
      "name": "python"
    }
  },
  "cells": [
    {
      "cell_type": "markdown",
      "source": [
        "# **20. Creating a Custom Exception**\n",
        "**Assignment:**\n",
        "\n",
        "Create a custom exception InvalidAgeError. Write a function check_age(age) that raises this exception if age < 18. Handle it with try...except.\n",
        "\n"
      ],
      "metadata": {
        "id": "NwJUEhXZQ4BW"
      }
    },
    {
      "cell_type": "code",
      "execution_count": 10,
      "metadata": {
        "colab": {
          "base_uri": "https://localhost:8080/"
        },
        "id": "DBSiiuC2Qz_g",
        "outputId": "6002c74c-ab0f-49f0-cdda-c35c504ea045"
      },
      "outputs": [
        {
          "output_type": "stream",
          "name": "stdout",
          "text": [
            "Enter your age: 16\n",
            "Error: Invalid age: 16. You must be at least 18 years old.\n"
          ]
        }
      ],
      "source": [
        "# Define a custom exception\n",
        "class InvalidAgeError(Exception):\n",
        "    def __init__(self, message=\"Age must be 18 or older.\"):\n",
        "        self.message = message\n",
        "        super().__init__(self.message)\n",
        "\n",
        "# Function to check age\n",
        "def check_age(age):\n",
        "    if age < 18:\n",
        "        raise InvalidAgeError(f\"Invalid age: {age}. You must be at least 18 years old.\")\n",
        "    return f\"Age {age} is valid.\"\n",
        "\n",
        "try:\n",
        "    age = int(input(\"Enter your age: \"))\n",
        "    result = check_age(age)\n",
        "    print(result)\n",
        "except InvalidAgeError as e:\n",
        "    print(f\"Error: {e}\")\n",
        "except ValueError:\n",
        "    print(\"Error: Please enter a valid number for age.\")"
      ]
    }
  ]
}