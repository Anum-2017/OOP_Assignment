{
  "nbformat": 4,
  "nbformat_minor": 0,
  "metadata": {
    "colab": {
      "provenance": []
    },
    "kernelspec": {
      "name": "python3",
      "display_name": "Python 3"
    },
    "language_info": {
      "name": "python"
    }
  },
  "cells": [
    {
      "cell_type": "markdown",
      "source": [
        "# **6. Constructors and Destructors**\n",
        "**Assignment:**\n",
        "\n",
        "Create a class Logger that prints a message when an object is created (constructor) and another message when it is destroyed (destructor)."
      ],
      "metadata": {
        "id": "pHGsidxBICrH"
      }
    },
    {
      "cell_type": "code",
      "execution_count": 1,
      "metadata": {
        "colab": {
          "base_uri": "https://localhost:8080/"
        },
        "id": "06r79q7-H8Uw",
        "outputId": "a450f30d-231c-4029-9103-9642a61ba966"
      },
      "outputs": [
        {
          "output_type": "stream",
          "name": "stdout",
          "text": [
            "Logger object created. Logging starts!\n",
            "Logger object destroyed. Logging ends!\n"
          ]
        }
      ],
      "source": [
        "class Logger:\n",
        "    def __init__(self):\n",
        "        # Constructor - called when the object is created\n",
        "        print(\"Logger object created. Logging starts!\")\n",
        "\n",
        "    def __del__(self):\n",
        "        # Destructor - called when the object is destroyed\n",
        "        print(\"Logger object destroyed. Logging ends!\")\n",
        "\n",
        "# Creating an instance of the Logger class\n",
        "logger = Logger()\n",
        "\n",
        "# Deleting the object to trigger the destructor\n",
        "del logger\n"
      ]
    }
  ]
}