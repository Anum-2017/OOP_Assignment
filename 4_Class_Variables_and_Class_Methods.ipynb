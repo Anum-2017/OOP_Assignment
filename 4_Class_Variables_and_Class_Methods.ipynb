{
  "nbformat": 4,
  "nbformat_minor": 0,
  "metadata": {
    "colab": {
      "provenance": []
    },
    "kernelspec": {
      "name": "python3",
      "display_name": "Python 3"
    },
    "language_info": {
      "name": "python"
    }
  },
  "cells": [
    {
      "cell_type": "markdown",
      "source": [
        "# **4. Class Variables and Class Methods**\n",
        "**Assignment:**\n",
        "\n",
        "Create a class Bank with a class variable bank_name. Add a class method change_bank_name(cls, name) that allows changing the bank name. Show that it affects all instances."
      ],
      "metadata": {
        "id": "AFd-6KahF08Y"
      }
    },
    {
      "cell_type": "code",
      "execution_count": 4,
      "metadata": {
        "colab": {
          "base_uri": "https://localhost:8080/"
        },
        "id": "jIl1F6NxFcMZ",
        "outputId": "75148fe5-dc0e-4fe3-db32-6424e2e30080"
      },
      "outputs": [
        {
          "output_type": "stream",
          "name": "stdout",
          "text": [
            "Before changing the bank name:\n",
            "Account Holder: John Doe\n",
            "Bank Name: ABC Bank\n",
            "Account Holder: Jane Smith\n",
            "Bank Name: ABC Bank\n",
            "\n",
            "Bank name has been changed to: XYZ Bank\n",
            "\n",
            "After changing the bank name:\n",
            "Account Holder: John Doe\n",
            "Bank Name: XYZ Bank\n",
            "Account Holder: Jane Smith\n",
            "Bank Name: XYZ Bank\n"
          ]
        }
      ],
      "source": [
        "class Bank:\n",
        "    bank_name = \"ABC Bank\"\n",
        "\n",
        "    def __init__(self, account_holder):\n",
        "        # Instance variable for the account holder's name\n",
        "        self.account_holder = account_holder\n",
        "\n",
        "    @classmethod\n",
        "    def change_bank_name(cls, name):\n",
        "        # Class method to change the bank's name\n",
        "        cls.bank_name = name\n",
        "        print()\n",
        "        print(f\"Bank name has been changed to: {cls.bank_name}\")\n",
        "\n",
        "    def display_account(self):\n",
        "        # Method to display account details\n",
        "        print(f\"Account Holder: {self.account_holder}\")\n",
        "        print(f\"Bank Name: {self.bank_name}\")\n",
        "\n",
        "\n",
        "# Creating instances of the Bank class\n",
        "account1 = Bank(\"John Doe\")\n",
        "account2 = Bank(\"Jane Smith\")\n",
        "\n",
        "# Displaying initial bank name for both accounts\n",
        "print(\"Before changing the bank name:\")\n",
        "account1.display_account()\n",
        "account2.display_account()\n",
        "\n",
        "# Changing the bank name using the class method\n",
        "Bank.change_bank_name(\"XYZ Bank\")\n",
        "\n",
        "# Displaying updated bank name for both accounts\n",
        "print(\"\\nAfter changing the bank name:\")\n",
        "account1.display_account()\n",
        "account2.display_account()"
      ]
    }
  ]
}