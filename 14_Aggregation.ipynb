{
  "nbformat": 4,
  "nbformat_minor": 0,
  "metadata": {
    "colab": {
      "provenance": []
    },
    "kernelspec": {
      "name": "python3",
      "display_name": "Python 3"
    },
    "language_info": {
      "name": "python"
    }
  },
  "cells": [
    {
      "cell_type": "markdown",
      "source": [
        "# **14. Aggregation**\n",
        "**Assignment:**\n",
        "\n",
        "Create a class Department and a class Employee. Use aggregation by having a Department object store a reference to an Employee object that exists independently of it."
      ],
      "metadata": {
        "id": "utWtFRW-VdX2"
      }
    },
    {
      "cell_type": "code",
      "execution_count": 3,
      "metadata": {
        "colab": {
          "base_uri": "https://localhost:8080/"
        },
        "id": "yYMFAgMLVcV8",
        "outputId": "d7a89ec5-38fa-41ac-ddc8-07e078bf994b"
      },
      "outputs": [
        {
          "output_type": "stream",
          "name": "stdout",
          "text": [
            "Employee Name: Ayesha\n",
            "Department: IT\n",
            "\n",
            "Employee Name: Zara\n",
            "Department: HR\n",
            "\n",
            "Employee Name: Fatima\n",
            "Department: Finance\n"
          ]
        }
      ],
      "source": [
        "class Employee:\n",
        "    def __init__(self, name):\n",
        "        self.name = name\n",
        "\n",
        "    def get_details(self):\n",
        "        return f\"Employee Name: {self.name}\"\n",
        "\n",
        "class Department:\n",
        "    def __init__(self, dept_name, employee):\n",
        "        self.dept_name = dept_name\n",
        "        self.employee = employee\n",
        "\n",
        "    def show_info(self):\n",
        "        return f\"{self.employee.get_details()}\\nDepartment: {self.dept_name}\"\n",
        "\n",
        "# Creating multiple Employee objects\n",
        "emp1 = Employee(\"Ayesha\")\n",
        "emp2 = Employee(\"Zara\")\n",
        "emp3 = Employee(\"Fatima\")\n",
        "\n",
        "# Assigning each to a Department\n",
        "dept1 = Department(\"IT\", emp1)\n",
        "dept2 = Department(\"HR\", emp2)\n",
        "dept3 = Department(\"Finance\", emp3)\n",
        "\n",
        "# Displaying the info\n",
        "print(dept1.show_info())\n",
        "print()\n",
        "print(dept2.show_info())\n",
        "print()\n",
        "print(dept3.show_info())"
      ]
    }
  ]
}