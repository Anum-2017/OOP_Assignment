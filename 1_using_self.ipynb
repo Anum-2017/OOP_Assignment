{
  "nbformat": 4,
  "nbformat_minor": 0,
  "metadata": {
    "colab": {
      "provenance": []
    },
    "kernelspec": {
      "name": "python3",
      "display_name": "Python 3"
    },
    "language_info": {
      "name": "python"
    }
  },
  "cells": [
    {
      "cell_type": "markdown",
      "source": [
        "# **1. Using self**\n",
        "**Assignment:**\n",
        "\n",
        "Create a class Student with attributes name and marks. Use the self keyword to initialize these values via a constructor. Add a method display() that prints student details."
      ],
      "metadata": {
        "id": "S7HcwsvZATRx"
      }
    },
    {
      "cell_type": "code",
      "source": [
        "# class Student:\n",
        "#     def __init__(self, name, marks):\n",
        "#         # 'self' refers to the instance of the class\n",
        "#         self.name = name\n",
        "#         self.marks = marks\n",
        "\n",
        "#     def display(self):\n",
        "#         # Displaying the student's name and marks\n",
        "#         print(\"Student Name:\", self.name)\n",
        "#         print(\"Marks:\", self.marks)\n",
        "\n",
        "# # Creating an object of Student class\n",
        "# student1 = Student(\"Anum\", 92)\n",
        "\n",
        "# # Calling the display method\n",
        "# student1.display()\n",
        "\n",
        "class Student:\n",
        "    def __init__(self, name, marks, total_marks=100):\n",
        "        self.name = name\n",
        "        self.marks = marks\n",
        "        self.total_marks = total_marks\n",
        "\n",
        "    def percentage(self):\n",
        "        \"\"\"\n",
        "        Calculates percentage based on marks and total_marks.\n",
        "        \"\"\"\n",
        "        return (self.marks / self.total_marks) * 100\n",
        "\n",
        "    def display(self):\n",
        "        print(f\"Student Name: {self.name}\")\n",
        "        print(f\"Marks: {self.marks}\")\n",
        "        print(f\"Percentage: {self.percentage():.2f}%\")\n",
        "\n",
        "# Example usage\n",
        "student1 = Student(\"Anum\", 92)\n",
        "student1.display()"
      ],
      "metadata": {
        "colab": {
          "base_uri": "https://localhost:8080/"
        },
        "id": "E1sB1-zCAx1t",
        "outputId": "d5e1e4ee-4334-4517-df17-a2072ebcea90"
      },
      "execution_count": 5,
      "outputs": [
        {
          "output_type": "stream",
          "name": "stdout",
          "text": [
            "Student Name: Anum\n",
            "Marks: 92\n",
            "Percentage: 92.00%\n"
          ]
        }
      ]
    }
  ]
}