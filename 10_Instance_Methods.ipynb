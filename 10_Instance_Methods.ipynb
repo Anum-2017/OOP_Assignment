{
  "nbformat": 4,
  "nbformat_minor": 0,
  "metadata": {
    "colab": {
      "provenance": []
    },
    "kernelspec": {
      "name": "python3",
      "display_name": "Python 3"
    },
    "language_info": {
      "name": "python"
    }
  },
  "cells": [
    {
      "cell_type": "markdown",
      "source": [
        "# **10. Instance Methods**\n",
        "**Assignment:**\n",
        "\n",
        "Create a class Dog with instance variables name and breed. Add an instance method bark() that prints a message including the dog's name."
      ],
      "metadata": {
        "id": "GAOMMaV2RIe4"
      }
    },
    {
      "cell_type": "code",
      "execution_count": 2,
      "metadata": {
        "colab": {
          "base_uri": "https://localhost:8080/"
        },
        "id": "J8sJfwnjREzV",
        "outputId": "4740c99e-6ef6-45eb-cdcf-8eb33eda725c"
      },
      "outputs": [
        {
          "output_type": "stream",
          "name": "stdout",
          "text": [
            "Max is barking! Woof! Woof!\n"
          ]
        }
      ],
      "source": [
        "class Dog:\n",
        "    def __init__(self, name, breed):\n",
        "        # Instance variables for name and breed\n",
        "        self.name = name\n",
        "        self.breed = breed\n",
        "\n",
        "    def bark(self):\n",
        "        # Instance method that prints a message including the dog's name\n",
        "        print(f\"{self.name} is barking! Woof! Woof!\")\n",
        "\n",
        "# Creating an instance of the Dog class with a different name\n",
        "dog = Dog(\"Max\", \"Beagle\")\n",
        "\n",
        "# Calling the bark() method on the dog instance\n",
        "dog.bark()"
      ]
    }
  ]
}