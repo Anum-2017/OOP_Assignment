{
  "nbformat": 4,
  "nbformat_minor": 0,
  "metadata": {
    "colab": {
      "provenance": []
    },
    "kernelspec": {
      "name": "python3",
      "display_name": "Python 3"
    },
    "language_info": {
      "name": "python"
    }
  },
  "cells": [
    {
      "cell_type": "markdown",
      "source": [
        "# **8. The super() Function**\n",
        "**Assignment:**\n",
        "\n",
        "Create a class Person with a constructor that sets the name. Inherit a class Teacher from it, add a subject field, and use super() to call the base class constructor."
      ],
      "metadata": {
        "id": "Zb8EcDoMPa9G"
      }
    },
    {
      "cell_type": "code",
      "execution_count": 2,
      "metadata": {
        "colab": {
          "base_uri": "https://localhost:8080/"
        },
        "id": "ocy_zOZwO26g",
        "outputId": "c168076a-9651-421b-b3c4-e926f2844e20"
      },
      "outputs": [
        {
          "output_type": "stream",
          "name": "stdout",
          "text": [
            "Name: Mrs. Johnson\n",
            "Subject: History\n"
          ]
        }
      ],
      "source": [
        "class Person:\n",
        "    def __init__(self, name):\n",
        "        # Constructor to set the name\n",
        "        self.name = name\n",
        "\n",
        "    def display_name(self):\n",
        "        # Method to display the person's name\n",
        "        print(f\"Name: {self.name}\")\n",
        "\n",
        "\n",
        "class Teacher(Person):\n",
        "    def __init__(self, name, subject):\n",
        "        # Call the base class constructor using super()\n",
        "        super().__init__(name)\n",
        "        # Adding subject field for the Teacher class\n",
        "        self.subject = subject\n",
        "\n",
        "    def display_subject(self):\n",
        "        # Method to display the subject taught by the teacher\n",
        "        print(f\"Subject: {self.subject}\")\n",
        "\n",
        "\n",
        "# Creating an instance of the Teacher class with different name and subject\n",
        "teacher = Teacher(\"Mrs. Johnson\", \"History\")\n",
        "\n",
        "# Displaying the name (inherited from Person)\n",
        "teacher.display_name()\n",
        "\n",
        "# Displaying the subject (specific to Teacher)\n",
        "teacher.display_subject()"
      ]
    }
  ]
}